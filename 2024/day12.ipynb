{
 "cells": [
  {
   "cell_type": "code",
   "execution_count": 203,
   "metadata": {},
   "outputs": [],
   "source": [
    "inputt = '''AAAA\n",
    "BCCD\n",
    "BBCC\n",
    "EEEC'''"
   ]
  },
  {
   "cell_type": "code",
   "execution_count": 204,
   "metadata": {},
   "outputs": [],
   "source": [
    "inputt = inputt.split('\\n')\n",
    "inputt = [list(x) for x in inputt]"
   ]
  },
  {
   "cell_type": "code",
   "execution_count": 205,
   "metadata": {},
   "outputs": [],
   "source": [
    "pointer = [0,0]"
   ]
  },
  {
   "cell_type": "code",
   "execution_count": 206,
   "metadata": {},
   "outputs": [],
   "source": [
    "def calc(temp):\n",
    "    tt =[]\n",
    "    for t in temp:\n",
    "        i = t[0]\n",
    "        j = t[1]\n",
    "        if [i+1,j] in temp and [i-1,j] in temp:\n",
    "            continue\n",
    "        elif [i,j+1] in temp and [i,j-1] in temp:\n",
    "            continue\n",
    "        tt.append(t)\n",
    "\n",
    "    s=0\n",
    "    if len(tt)==1:\n",
    "        s=3\n",
    "    for l in range(len(tt)):\n",
    "        t1 = tt[l]\n",
    "        t2 = tt[(l+1)%len(tt)]\n",
    "        s+=abs(t1[0]-t2[0])+abs(t1[1]-t2[1])+1\n",
    "    print(s)"
   ]
  },
  {
   "cell_type": "code",
   "execution_count": 207,
   "metadata": {},
   "outputs": [],
   "source": [
    "def peri(i,j):\n",
    "    corners = []\n",
    "    temp = []\n",
    "    tempc = inputt[i][j]\n",
    "    while [i,j] not in temp:\n",
    "        if i>0:\n",
    "            if inputt[i-1][j] == tempc:\n",
    "                c=0\n",
    "                if j < len(inputt[0])-1 and inputt[i][j+1] == tempc:\n",
    "                    c+=1\n",
    "                if j > 0 and inputt[i][j-1] == tempc:\n",
    "                    c+=1\n",
    "                if i<len(inputt)-1 and inputt[i+1][j] == tempc:\n",
    "                    c=-1\n",
    "                if c<=2 and c!=-1:\n",
    "                    temp.append([i,j])\n",
    "                inputt[i][j] = '+'\n",
    "                i-=1\n",
    "                continue\n",
    "        if j<len(inputt[0])-1:\n",
    "            if inputt[i][j+1] == tempc:\n",
    "                c=0\n",
    "                if i < len(inputt)-1 and inputt[i+1][j] == tempc:\n",
    "                    c+=1\n",
    "                if i > 0 and inputt[i-1][j] == tempc:\n",
    "                    c+=1\n",
    "                if j>0 and inputt[i][j-1] == tempc:\n",
    "                    c=-1\n",
    "                if c<=2 and c!=-1:\n",
    "                    temp.append([i,j])\n",
    "                inputt[i][j] = '+'\n",
    "                j+=1\n",
    "                # print(i,j)\n",
    "                continue\n",
    "        if i<len(inputt)-1:\n",
    "            if inputt[i+1][j] == tempc:\n",
    "                c=0\n",
    "                if j < len(inputt[0])-1 and inputt[i][j+1] == tempc:\n",
    "                    c+=1\n",
    "                if j > 0 and inputt[i][j-1] == tempc:\n",
    "                    c+=1\n",
    "                if i>0 and inputt[i-1][j] == tempc:\n",
    "                    c=-1\n",
    "                if c<=2 and c!=-1:\n",
    "                    temp.append([i,j])\n",
    "                inputt[i][j] = '+'\n",
    "                i+=1\n",
    "                continue\n",
    "        if j>0:\n",
    "            if inputt[i][j-1] == tempc:\n",
    "                c=0\n",
    "                if i < len(inputt)-1 and inputt[i+1][j] == tempc:\n",
    "                    c+=1\n",
    "                if i > 0 and inputt[i-1][j] == tempc:\n",
    "                    c+=1\n",
    "                if j<len(inputt[0])-1 and inputt[i][j+1] == tempc:\n",
    "                    c=-1\n",
    "                if c<=2 and c!=-1:\n",
    "                    temp.append([i,j])\n",
    "                inputt[i][j] = '+'\n",
    "                j-=1\n",
    "                continue\n",
    "        inputt[i][j] = '+'\n",
    "        temp.append([i,j])\n",
    "        break\n",
    "    return calc(temp)\n"
   ]
  },
  {
   "cell_type": "code",
   "execution_count": 208,
   "metadata": {},
   "outputs": [
    {
     "name": "stdout",
     "output_type": "stream",
     "text": [
      "8\n",
      "7\n",
      "13\n",
      "4\n",
      "6\n"
     ]
    }
   ],
   "source": [
    "\n",
    "for i in range(len(inputt)):\n",
    "    for j in range(len(inputt[0])):\n",
    "        # print(inputt) \n",
    "        if inputt[i][j] != '+':\n",
    "            peri(i,j)"
   ]
  }
 ],
 "metadata": {
  "kernelspec": {
   "display_name": "Python 3",
   "language": "python",
   "name": "python3"
  },
  "language_info": {
   "codemirror_mode": {
    "name": "ipython",
    "version": 3
   },
   "file_extension": ".py",
   "mimetype": "text/x-python",
   "name": "python",
   "nbconvert_exporter": "python",
   "pygments_lexer": "ipython3",
   "version": "3.11.0"
  }
 },
 "nbformat": 4,
 "nbformat_minor": 2
}
