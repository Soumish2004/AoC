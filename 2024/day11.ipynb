{
 "cells": [
  {
   "cell_type": "code",
   "execution_count": 32,
   "metadata": {},
   "outputs": [],
   "source": [
    "inputt = '''30 71441 3784 580926 2 8122942 0 291'''"
   ]
  },
  {
   "cell_type": "code",
   "execution_count": 33,
   "metadata": {},
   "outputs": [],
   "source": [
    "inputt = inputt.split()"
   ]
  },
  {
   "cell_type": "code",
   "execution_count": null,
   "metadata": {},
   "outputs": [],
   "source": [
    "blink = 75\n",
    "for i in range(blink):\n",
    "    j=0\n",
    "    while j < len(inputt):\n",
    "        if inputt[j] == '0':\n",
    "            inputt[j] = '1'\n",
    "            j+=1\n",
    "        elif len(inputt[j]) %2 == 0:\n",
    "            temp = inputt[j]\n",
    "            inputt[j] = temp[:len(temp)//2] \n",
    "            inputt.insert(j+1, str(int(temp[len(temp)//2:])))\n",
    "            # print(inputt[j], inputt[j+1])\n",
    "            j+=2\n",
    "        else:\n",
    "            inputt[j] = str(int(inputt[j])*2024)\n",
    "            j+=1\n",
    "    # print(inputt)\n",
    "\n",
    "print(len(inputt))"
   ]
  },
  {
   "cell_type": "code",
   "execution_count": null,
   "metadata": {},
   "outputs": [],
   "source": []
  }
 ],
 "metadata": {
  "kernelspec": {
   "display_name": "Python 3",
   "language": "python",
   "name": "python3"
  },
  "language_info": {
   "codemirror_mode": {
    "name": "ipython",
    "version": 3
   },
   "file_extension": ".py",
   "mimetype": "text/x-python",
   "name": "python",
   "nbconvert_exporter": "python",
   "pygments_lexer": "ipython3",
   "version": "3.11.0"
  }
 },
 "nbformat": 4,
 "nbformat_minor": 2
}
